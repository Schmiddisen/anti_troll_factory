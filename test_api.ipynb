{
 "cells": [
  {
   "cell_type": "code",
   "execution_count": 1,
   "id": "08e68f96",
   "metadata": {},
   "outputs": [],
   "source": [
    "from config import  app_secret, new_token , user_ID\n",
    "import requests"
   ]
  },
  {
   "cell_type": "code",
   "execution_count": 2,
   "id": "aa2d8075",
   "metadata": {},
   "outputs": [
    {
     "name": "stdout",
     "output_type": "stream",
     "text": [
      "<Response [200]>\n"
     ]
    }
   ],
   "source": [
    "# Simple Profilabfrage\n",
    "url = \"https://graph.threads.net/v1.0/me\"\n",
    "payload = {\n",
    "    \"fields\":\"id,username,name,threads_profile_picture_url,threads_biography,is_eligible_for_geo_gating\",\n",
    "    \"access_token\": new_token\n",
    "}\n",
    "respose = requests.get(url,payload)\n",
    "print(respose)"
   ]
  },
  {
   "cell_type": "code",
   "execution_count": 3,
   "id": "28c9243d",
   "metadata": {},
   "outputs": [
    {
     "data": {
      "text/plain": [
       "{'id': '10051729561578197',\n",
       " 'username': 'magistratsbeschluss',\n",
       " 'name': 'Sabine Moore',\n",
       " 'threads_profile_picture_url': 'https://scontent-dus1-1.cdninstagram.com/v/t51.75761-15/503345956_17848177092482210_6876460417299126364_n.jpg?stp=dst-jpg_e35_tt6&_nc_cat=107&ccb=1-7&_nc_sid=18de74&_nc_ohc=TaGt3JSideoQ7kNvwG66gIG&_nc_oc=AdkNT_7Wdf5FmLVc4GbHm9JrixnJ6FQBJXTgl3a2UH22bbwO3-Bp7mggqfYG4yp0wSY&_nc_zt=23&_nc_ht=scontent-dus1-1.cdninstagram.com&edm=AP4hL3IEAAAA&_nc_gid=nhHZMQiVLZr791Fwru_neA&oh=00_AfOaU_5NBDAOM1fZjvzBFGHjyaY7ueMs2K-DET9C81xooA&oe=684F2187',\n",
       " 'is_eligible_for_geo_gating': False}"
      ]
     },
     "execution_count": 3,
     "metadata": {},
     "output_type": "execute_result"
    }
   ],
   "source": [
    "data = respose.json()\n",
    "data"
   ]
  },
  {
   "cell_type": "code",
   "execution_count": 4,
   "id": "f4d8cedc",
   "metadata": {},
   "outputs": [],
   "source": [
    "post_text = \"Leider gibt es viel zu viele leute die nicht an den Klimawandel glaube oder skeptisch sind. Da trägt der Springer Verlag mitschuld\""
   ]
  },
  {
   "cell_type": "code",
   "execution_count": 7,
   "id": "6dd87808",
   "metadata": {},
   "outputs": [],
   "source": [
    "# Einen Post posten: Container erstellen\n",
    "post_url = f\"https://graph.threads.net/v1.0/{user_ID}/threads\"\n",
    "\n",
    "container_data = {\n",
    "    'media_type': 'TEXT',\n",
    "    #'image_url': \"image_url\",\n",
    "    'text': post_text,\n",
    "    'access_token': new_token  \n",
    "}\n",
    "\n",
    "response = requests.post(url, params=container_data)\n"
   ]
  },
  {
   "cell_type": "code",
   "execution_count": 8,
   "id": "edf306a7",
   "metadata": {},
   "outputs": [
    {
     "data": {
      "text/plain": [
       "{'error': {'message': \"Unsupported post request. Object with ID 'me' does not exist, cannot be loaded due to missing permissions, or does not support this operation\",\n",
       "  'type': 'THApiException',\n",
       "  'code': 100,\n",
       "  'error_subcode': 33,\n",
       "  'fbtrace_id': 'ALsvhW0eHA8gvpYhEoxi1nb'}}"
      ]
     },
     "execution_count": 8,
     "metadata": {},
     "output_type": "execute_result"
    }
   ],
   "source": [
    "data= response.json()\n",
    "data"
   ]
  }
 ],
 "metadata": {
  "kernelspec": {
   "display_name": "threads",
   "language": "python",
   "name": "python3"
  },
  "language_info": {
   "codemirror_mode": {
    "name": "ipython",
    "version": 3
   },
   "file_extension": ".py",
   "mimetype": "text/x-python",
   "name": "python",
   "nbconvert_exporter": "python",
   "pygments_lexer": "ipython3",
   "version": "3.12.3"
  }
 },
 "nbformat": 4,
 "nbformat_minor": 5
}
