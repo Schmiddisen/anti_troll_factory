{
 "cells": [
  {
   "cell_type": "code",
   "execution_count": null,
   "id": "0507755c",
   "metadata": {},
   "outputs": [],
   "source": [
    "import requests\n",
    "import json"
   ]
  },
  {
   "cell_type": "code",
   "execution_count": null,
   "id": "3d3ba60b",
   "metadata": {},
   "outputs": [],
   "source": [
    "from config import new_token, callback_url, app_ID, app_secret"
   ]
  },
  {
   "cell_type": "code",
   "execution_count": null,
   "id": "c1262dbd",
   "metadata": {},
   "outputs": [],
   "source": [
    "url = \"https://threads.net/oauth/authorize?\"\n",
    "url = url + f\"client_id={int(app_ID)}\"\n",
    "url = url +\"&\"+ f\"redirect_uri={callback_url}\"\n",
    "url = url +\"&\"+ f\"scope={(\"threads_basic,threads_content_publish,threads_read_replies,threads_manage_replies,threads_manage_insights\").replace(\",\",\"%2C\")}\"\n",
    "url = url +\"&\"+ f\"response_type=code\"\n",
    "url"
   ]
  },
  {
   "cell_type": "code",
   "execution_count": null,
   "id": "e0d6884a",
   "metadata": {},
   "outputs": [],
   "source": [
    "returned_uri = \"\"\n",
    "authorization_code = returned_uri.replace(callback_url + \"?code=\", \"\").replace('#_',\"\")\n",
    "authorization_code"
   ]
  },
  {
   "cell_type": "code",
   "execution_count": null,
   "id": "8002cf11",
   "metadata": {},
   "outputs": [],
   "source": [
    "# Get Access token\n",
    "\n",
    "auth_url = f\"https://graph.threads.net/oauth/access_token\"\n",
    "form_data = {\n",
    "    \"client_id\":int(app_ID),\n",
    "    \"client_secret\":app_secret,\n",
    "    \"grant_type\":\"authorization_code\",\n",
    "    \"redirect_uri\": callback_url,\n",
    "    \"code\": authorization_code\n",
    "}\n",
    "response = requests.post(auth_url, data=form_data)\n",
    "data = response.json()\n",
    "print(data)\n",
    "user_access_token = data[\"access_token\"]\n",
    "#\n",
    "user_access_token\n"
   ]
  },
  {
   "cell_type": "code",
   "execution_count": null,
   "id": "0028aa3f",
   "metadata": {},
   "outputs": [],
   "source": [
    "# Get Long Access Token\n"
   ]
  },
  {
   "cell_type": "code",
   "execution_count": null,
   "id": "b9da935c",
   "metadata": {},
   "outputs": [],
   "source": [
    "auth_url = \"https://graph.threads.net/access_token\"\n",
    "payload = {\n",
    "    \"grant_type\":\"th_exchange_token\",\n",
    "    \"client_secret\": app_secret,\n",
    "    \"access_token\": user_access_token, \n",
    "    \n",
    "\n",
    "    \n",
    "}\n",
    "response = requests.post(auth_url, data=payload)\n",
    "data = response.json()\n",
    "print(data)\n",
    "long_access_token = data[\"access_token\"]\n",
    "#\n",
    "long_access_token"
   ]
  }
 ],
 "metadata": {
  "kernelspec": {
   "display_name": "threads",
   "language": "python",
   "name": "python3"
  },
  "language_info": {
   "codemirror_mode": {
    "name": "ipython",
    "version": 3
   },
   "file_extension": ".py",
   "mimetype": "text/x-python",
   "name": "python",
   "nbconvert_exporter": "python",
   "pygments_lexer": "ipython3",
   "version": "3.12.3"
  }
 },
 "nbformat": 4,
 "nbformat_minor": 5
}
